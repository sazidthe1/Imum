{
 "cells": [
  {
   "cell_type": "markdown",
   "metadata": {},
   "source": [
    "## Opening the CSV files"
   ]
  },
  {
   "cell_type": "code",
   "execution_count": 1,
   "metadata": {},
   "outputs": [
    {
     "name": "stdout",
     "output_type": "stream",
     "text": [
      "Column names in car-golf-info.csv: Index(['id', 'make', 'model', 'submodel', 'modification_key', 'modification',\n",
      "       'fuel', 'door_count', 'capacity', 'power1', 'power2', 'weight',\n",
      "       'construction_start', 'construction_end', 'meta', 'final_submodel',\n",
      "       'parsed_model', 'parsed_engine_type', 'parsed_engine_size',\n",
      "       'parsed_options', 'parsed_category', 'parsed_transmission'],\n",
      "      dtype='object')\n"
     ]
    }
   ],
   "source": [
    "import pandas as pd\n",
    "\n",
    "# Load the car-golf-info file\n",
    "car_golf_info = pd.read_csv(r'/workspaces/Imum/car-golf-info.csv')\n",
    "\n",
    "# Display the column names to verify them\n",
    "print(\"Column names in car-golf-info.csv:\", car_golf_info.columns)"
   ]
  },
  {
   "cell_type": "code",
   "execution_count": 2,
   "metadata": {},
   "outputs": [
    {
     "name": "stdout",
     "output_type": "stream",
     "text": [
      "Column names in car-golf-dataset.csv: Index(['source_id', 'title', 'category', 'make', 'model', 'power', 'color',\n",
      "       'capacity', 'transmission', 'fuel', 'construction_year', 'price_net',\n",
      "       'price_gross', 'added', 'mileage', 'url'],\n",
      "      dtype='object')\n"
     ]
    }
   ],
   "source": [
    "import pandas as pd\n",
    "\n",
    "# Attempt to load car-golf-dataset with error handling and specified delimiter\n",
    "try:\n",
    "    car_golf_dataset = pd.read_csv(\n",
    "        r'/workspaces/Imum/car-golf-dataset.csv',\n",
    "        delimiter=',',  # Change to ';' if commas don't work\n",
    "        on_bad_lines='skip'  # Skip lines with inconsistent field counts\n",
    "    )\n",
    "    \n",
    "    # Display column names to identify the correct name for the title column\n",
    "    print(\"Column names in car-golf-dataset.csv:\", car_golf_dataset.columns)\n",
    "    \n",
    "except Exception as e:\n",
    "    print(f\"Error loading car-golf-dataset.csv: {e}\")"
   ]
  },
  {
   "cell_type": "markdown",
   "metadata": {},
   "source": [
    "## Importing required libraries"
   ]
  },
  {
   "cell_type": "code",
   "execution_count": null,
   "metadata": {},
   "outputs": [],
   "source": [
    "import pandas as pd\n",
    "import numpy as np\n",
    "import matplotlib.pyplot as plt\n",
    "import seaborn as sns\n",
    "import csv"
   ]
  }
 ],
 "metadata": {
  "kernelspec": {
   "display_name": "Python 3",
   "language": "python",
   "name": "python3"
  },
  "language_info": {
   "codemirror_mode": {
    "name": "ipython",
    "version": 3
   },
   "file_extension": ".py",
   "mimetype": "text/x-python",
   "name": "python",
   "nbconvert_exporter": "python",
   "pygments_lexer": "ipython3",
   "version": "3.12.1"
  }
 },
 "nbformat": 4,
 "nbformat_minor": 2
}
